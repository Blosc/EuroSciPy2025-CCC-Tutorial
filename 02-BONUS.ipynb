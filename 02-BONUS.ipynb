{
 "cells": [
  {
   "metadata": {},
   "cell_type": "code",
   "outputs": [],
   "execution_count": null,
   "source": [
    "import numpy as np\n",
    "import matplotlib.pyplot as plt\n",
    "from matplotlib.animation import FuncAnimation\n",
    "import blosc2\n",
    "import time\n",
    "import psutil\n",
    "import os\n",
    "%matplotlib ipympl\n",
    "\n",
    "# --- Memory profiler ---\n",
    "def getmem():\n",
    "    process = psutil.Process(os.getpid())\n",
    "    return process.memory_info().rss / 1024 / 1024\n",
    "\n",
    "shape1 = (500, 10000)\n",
    "shape2 = (10, 500, 10000)\n",
    "a = blosc2.linspace(0, 1, np.prod(shape1), dtype=np.float32, shape=shape1, urlpath=\"a.b2nd\", mode=\"w\")\n",
    "b = blosc2.linspace(1, 2, np.prod(shape2), dtype=np.float64, shape=shape2, urlpath=\"b.b2nd\", mode=\"w\")\n",
    "\n",
    "# Now, let's create an expression that involves `a` and `b`, called `c`.\n",
    "c = a ** 2 + b ** 2 + 2 * a * b + 1\n",
    "print(c.info)  # at this stage, the expression has not been computed yet"
   ],
   "id": "9070b49834e0a830"
  },
  {
   "metadata": {},
   "cell_type": "markdown",
   "source": [
    "**--------------------Exercise 1------------------**\n",
    "\n",
    "Blosc2 automatically selects the chunksize and chunk shape when creating arrays to be ajusted to your machine's cache. However, we can modify the chunksizes of ``a`` and ``b`` to be smaller or larger; can you predict how memory usage might change? What about computation time? The latter is probably more difficult to predict.\n",
    "\n",
    "Extra Credit: Note that we can also specify different compression parameters for the result via the ``cparams`` kwarg of ``compute``.  For example, we can change the codec to `ZLIB`, use the bitshuffle filter, and set the compression level to 9: ``cparams = blosc2.CParams(codec=blosc2.Codec.ZLIB, filters=[blosc2.Filter.BITSHUFFLE], clevel=9)``. What happens to computation time and compression ratio (compare to **i) Computing an expression**) ?\n"
   ],
   "id": "417c2bc0c631f311"
  },
  {
   "cell_type": "code",
   "execution_count": null,
   "id": "initial_id",
   "metadata": {
    "collapsed": true
   },
   "outputs": [],
   "source": [
    "print(f\"Chunks are of size: a - {round(a.chunksize / 1024 ** 2, 2)} MB,  b - {round(b.chunksize / 1024 ** 2, 2)} MB\")\n",
    "# Now check what the chunkshapes for a and b are and regenerate them with different chunks\n",
    "# Try (100, 5000) for a, (250, 1000) for b\n",
    "\n",
    "#\n",
    "## YOUR CODE HERE ##\n",
    "#\n",
    "\n",
    "# We have to regenerate expression with new operands\n",
    "print(\n",
    "    f\"Chunks are now of size: a - {round(a.chunksize / 1024 ** 2, 2)} MB,  b - {round(b.chunksize / 1024 ** 2, 2)} MB\")\n",
    "c = a ** 2 + b ** 2 + 2 * a * b + 1\n",
    "\n",
    "# Now redo the experiment ii) Writing to disk and see how memory usage and computation time change\n",
    "\n",
    "#\n",
    "## YOUR CODE HERE ##\n",
    "#\n",
    "\n",
    "# Now reset things back to how they were before\n",
    "a = blosc2.linspace(0, 1, np.prod(shape1), dtype=np.float32, shape=shape1, urlpath=\"a.b2nd\", mode=\"w\")\n",
    "b = blosc2.linspace(1, 2, np.prod(shape2), dtype=np.float64, shape=shape2, urlpath=\"b.b2nd\", mode=\"w\")\n",
    "c = a ** 2 + b ** 2 + 2 * a * b + 1"
   ]
  },
  {
   "metadata": {},
   "cell_type": "markdown",
   "source": "## Part 2)",
   "id": "471731b04923d9db"
  },
  {
   "metadata": {},
   "cell_type": "code",
   "outputs": [],
   "execution_count": null,
   "source": [
    "# --- Experiment Setup ---\n",
    "n_frames = 100  # Raise this for more frames\n",
    "width, height = np.array((n_frames, n_frames))  # Size of the grid\n",
    "dtype = np.float64  # Data type for the grid\n",
    "\n",
    "# --- Coordinate creation ---\n",
    "x = blosc2.linspace(0, n_frames, n_frames, dtype=dtype)\n",
    "y = blosc2.linspace(-4 * np.pi, 4 * np.pi, width, dtype=dtype)\n",
    "z = blosc2.linspace(-4 * np.pi, 4 * np.pi, height, dtype=dtype)\n",
    "X = blosc2.expand_dims(blosc2.expand_dims(x, 1), 2)  # Shape: (N, 1, 1)\n",
    "Y = blosc2.expand_dims(blosc2.expand_dims(y, 0), 2)  # Shape: (1, N, 1)\n",
    "Z = blosc2.expand_dims(blosc2.expand_dims(z, 0), 0)  # Shape: (1, 1, N)\n",
    "\n",
    "# --- Generate computed data ---\n",
    "def genexpr(a, b, c):\n",
    "    time_factor = a * b * 0.001\n",
    "    R = np.sqrt(b**2 + c**2)\n",
    "    theta = np.arctan2(c, b)\n",
    "    return np.sin(R * 3 - time_factor * 2) * np.cos(theta * 3)\n",
    "\n",
    "def create_video(arr):\n",
    "    label = 'NumPy' if isinstance(arr, np.ndarray) else 'Blosc2'\n",
    "    fig = plt.figure(figsize=(8, 8))\n",
    "    a = arr[:,:,0]\n",
    "    im = plt.imshow(a, cmap=\"viridis\")\n",
    "    fig.colorbar(im)\n",
    "    plt.title(\"Animated Plot\")\n",
    "    plt.xlabel(\"X-axis\")\n",
    "    plt.ylabel(\"Y-axis\")\n",
    "    start_time = time.time()\n",
    "    def update(frame_num):\n",
    "        # Evaluate the expression for the current frame on the fly\n",
    "        a = arr[:, :, frame_num]  # <-------------- perform computation\n",
    "        im.set_array(a)\n",
    "        elapsed_time = time.time() - start_time\n",
    "        plt.title(f\"{label}: Frame {frame_num + 1}/{n_frames}, elapsed time = {round(elapsed_time, 2)} s\")\n",
    "        return im,\n",
    "    ani = FuncAnimation(fig, update, frames=n_frames, interval=10, blit=False, repeat=False)\n",
    "    plt.show()\n",
    "    return ani\n",
    "\n",
    "# --- Run computation and profile time and memory usage ---\n",
    "def monitor(BLOSC=True):\n",
    "    m0 = getmem()\n",
    "    t0 = time.time()\n",
    "    expr = genexpr(X, Y, Z)[:] if BLOSC else genexpr(X[:], Y[:], Z[:])\n",
    "    dt = time.time()-t0\n",
    "    if dt > 1e-3:\n",
    "        print(f'Operation took {round(dt, 3)} s')\n",
    "    else:\n",
    "        print(f'Operation took {round(dt * 1000_000, 1)} μs')\n",
    "    print(f'Result occupies {round((getmem()-m0))} MB')\n",
    "    return expr"
   ],
   "id": "13634d81721f913d"
  },
  {
   "metadata": {},
   "cell_type": "markdown",
   "source": [
    "\n",
    "**----------------Exercise 2----------------**\n",
    "\n",
    "a) Run the animation with the result of the NumPy calculation (``genexpr(X[:], Y[:], Z[:])``). Since we precompute all frames, you might expect the animation to run faster. Is this true?\n",
    "You can go back and regenerate the ``expr`` variable to be a ``LazyExpr`` and rerun the Blosc2 animation cell to double check the comparison of the speeds.\n",
    "\n",
    "b) Now try to run the animation but pass a computed Blosc2 array as the ``arr`` parameter (rather than either the uncomputed ``LazyExpr`` object or a NumPy array). What happens now?\n",
    "\n",
    "c) What would happen to memory usage and computation time if, in the ``monitor`` function, we modified the computation to return a Blosc2 NDArray rather than a NumPy array?"
   ],
   "id": "b04068fbf64050c1"
  },
  {
   "metadata": {},
   "cell_type": "code",
   "outputs": [],
   "execution_count": null,
   "source": "## YOUR CODE HERE",
   "id": "86d0edf0a14557f0"
  },
  {
   "metadata": {},
   "cell_type": "markdown",
   "source": [
    "## Part 3) Lazy Expressions and Persistent Reductions\n",
    "\n",
    "**EXERCISE**:\n",
    "\n",
    "Apply ``blosc2.sin`` to the lazy expression ``a + b``. What is the type of the result? Now apply a reduction (e.g. ``blosc2.sum``) to the lazy expression. What is the type of the result?"
   ],
   "id": "f7db7c9df9a8cdc4"
  },
  {
   "metadata": {},
   "cell_type": "code",
   "outputs": [],
   "execution_count": null,
   "source": [
    "lexpr = a + b\n",
    "# Apply blosc2.sin to lazy expression\n",
    "#YOUR CODE HERE\n",
    "# Apply a reduction to lazy expression\n",
    "#YOUR CODE HERE"
   ],
   "id": "d0969a40f009e9e3"
  },
  {
   "metadata": {},
   "cell_type": "markdown",
   "source": "As we can see, the result of the reduction expression is not a ``LazyExpr``, but rather a NumPy array (even though no ``__getitem__`` call has been made). This is because reductions in expressions are always executed \"eagerly\" (i.e. on creation of the lazy expression). Using strings and the ``lazyexpr`` constructor, we can avoid this:\n",
   "id": "1169332f69166fe4"
  },
  {
   "metadata": {},
   "cell_type": "code",
   "outputs": [],
   "execution_count": null,
   "source": [
    "# Expression that sums arrays\n",
    "expression = \"sum(a + b, axis=1)\"\n",
    "# Define the operands for the expression\n",
    "operands = {\"a\": a, \"b\": b}\n",
    "# Create a lazy expression\n",
    "lazy_expression = blosc2.lazyexpr(expression, operands)"
   ],
   "id": "9c71484a001e19a3"
  },
  {
   "metadata": {},
   "cell_type": "markdown",
   "source": [
    "**---------------EXERCISE 3----------------**\n",
    "\n",
    "a) Check the type of ``lazy_expression`` is indeed a ``LazyExpr``. Try computing the full result and profile the computation. Compare it with the time taken for the eagerly executed version which doesn't use a string.\n",
    "\n",
    "b) Now try computing a slice of ``lazy_expression`` and see if it runs faster than computing the full result. Would the non-string version also be faster? Would the result even be the same?"
   ],
   "id": "b4c937c6f3adef6c"
  },
  {
   "metadata": {},
   "cell_type": "code",
   "outputs": [],
   "execution_count": null,
   "source": [
    "#a)\n",
    "# YOUR CODE HERE\n",
    "\n",
    "#b)\n",
    "# YOUR CODE HERE"
   ],
   "id": "faf654715dc953bc"
  },
  {
   "metadata": {},
   "cell_type": "markdown",
   "source": [
    "## Part 4) Lazy Expression Operands and Storage\n",
    "\n",
    "We can save lazy expression operands on-disk and then update them - computing any lazy expression in which they appear then gives a new result, since the computation is peformed every time:"
   ],
   "id": "59ab1ca7ef72279c"
  },
  {
   "metadata": {},
   "cell_type": "code",
   "outputs": [],
   "execution_count": null,
   "source": [
    "a = blosc2.arange(0, 10, urlpath=\"a.b2nd\", mode=\"w\")\n",
    "lexpr = a + 1\n",
    "print(f\"Lazyexpr with old a: {lexpr[:]}\")\n",
    "a = blosc2.arange(10, 20, urlpath=\"a.b2nd\", mode=\"w\")\n",
    "print(f\"Lazyexpr with new a: {lexpr[:]}\")  # This will compute with the new a"
   ],
   "id": "f536c97c0028bbca"
  },
  {
   "metadata": {},
   "cell_type": "markdown",
   "source": [
    "**-------Exercise 4----------**\n",
    "\n",
    "Now try the same but *without* saving the operands to disk. What happens now? You should see that the behaviour is different. Compare the result of ``id()`` on ``a`` and the values of the ``lexpr.operands`` dict - what do you see? Try saving and reopening ``lexpr`` to disk when the operands are saved on disk (and when they're not) - what happens then?"
   ],
   "id": "270449dcb562ae36"
  },
  {
   "metadata": {},
   "cell_type": "code",
   "outputs": [],
   "execution_count": null,
   "source": [
    "a = blosc2.arange(0, 10) # operand stored in memory\n",
    "print(f\"Memory address of a: {id(a)}\")\n",
    "\n",
    "#\n",
    "## YOUR CODE  HERE\n",
    "#"
   ],
   "id": "72ef319b7062177a"
  }
 ],
 "metadata": {
  "kernelspec": {
   "display_name": "Python 3",
   "language": "python",
   "name": "python3"
  },
  "language_info": {
   "codemirror_mode": {
    "name": "ipython",
    "version": 2
   },
   "file_extension": ".py",
   "mimetype": "text/x-python",
   "name": "python",
   "nbconvert_exporter": "python",
   "pygments_lexer": "ipython2",
   "version": "2.7.6"
  }
 },
 "nbformat": 4,
 "nbformat_minor": 5
}
