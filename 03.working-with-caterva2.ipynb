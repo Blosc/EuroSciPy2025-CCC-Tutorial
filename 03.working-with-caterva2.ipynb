{
 "metadata": {
  "kernelspec": {
   "name": "python3",
   "display_name": "Python 3 (ipykernel)",
   "language": "python"
  },
  "language_info": {
   "codemirror_mode": {
    "name": "python",
    "version": 3
   },
   "file_extension": ".py",
   "mimetype": "text/x-python",
   "name": "python",
   "nbconvert_exporter": "python",
   "pygments_lexer": "ipython3",
   "version": "3.8"
  }
 },
 "nbformat_minor": 5,
 "nbformat": 4,
 "cells": [
  {
   "metadata": {},
   "cell_type": "markdown",
   "source": [
    "# Tutorial 3: Working with remote datasets\n",
    "In this tutorial we will see how to work with remote datasets using Blosc2 and Caterva2, a library that allows you to manage large remote datasets, providing a client-server architecture. Caterva2 is built on top of Blosc2, so it can handle large datasets efficiently using all the tools and tricks you've learned in the previous tutorials."
   ],
   "id": "fff2e92d087c0aeb"
  },
  {
   "id": "3b7656af-ff6d-44e8-87c3-83af1fc209a3",
   "cell_type": "code",
   "source": [
    "!pip install caterva2[services]==2025.8.7\n",
    "!pip install memory_profiler"
   ],
   "metadata": {
    "trusted": true,
    "ExecuteTime": {
     "end_time": "2025-08-12T16:10:47.823211Z",
     "start_time": "2025-08-12T16:10:45.646693Z"
    }
   },
   "outputs": [
    {
     "name": "stdout",
     "output_type": "stream",
     "text": [
      "/bin/bash: warning: setlocale: LC_ALL: cannot change locale (en_US.UTF-8)\r\n",
      "Requirement already satisfied: caterva2==2025.8.7 in /home/lshaw/miniforge3/envs/blosc2env/lib/python3.12/site-packages (from caterva2[services]==2025.8.7) (2025.8.7)\r\n",
      "Requirement already satisfied: blosc2>=3.2.0 in /home/lshaw/miniforge3/envs/blosc2env/lib/python3.12/site-packages (from caterva2==2025.8.7->caterva2[services]==2025.8.7) (3.7.0)\r\n",
      "Requirement already satisfied: httpx in /home/lshaw/miniforge3/envs/blosc2env/lib/python3.12/site-packages (from caterva2==2025.8.7->caterva2[services]==2025.8.7) (0.28.1)\r\n",
      "Requirement already satisfied: aiosqlite in /home/lshaw/miniforge3/envs/blosc2env/lib/python3.12/site-packages (from caterva2[services]==2025.8.7) (0.21.0)\r\n",
      "Collecting b2h5py>=0.5.1 (from caterva2[services]==2025.8.7)\r\n",
      "  Using cached b2h5py-0.5.1-py3-none-any.whl.metadata (5.7 kB)\r\n",
      "Requirement already satisfied: fastapi-mail in /home/lshaw/miniforge3/envs/blosc2env/lib/python3.12/site-packages (from caterva2[services]==2025.8.7) (1.5.0)\r\n",
      "Requirement already satisfied: fastapi-users[sqlalchemy] in /home/lshaw/miniforge3/envs/blosc2env/lib/python3.12/site-packages (from caterva2[services]==2025.8.7) (14.0.1)\r\n",
      "Requirement already satisfied: fastapi>=0.109 in /home/lshaw/miniforge3/envs/blosc2env/lib/python3.12/site-packages (from caterva2[services]==2025.8.7) (0.115.12)\r\n",
      "Requirement already satisfied: furl in /home/lshaw/miniforge3/envs/blosc2env/lib/python3.12/site-packages (from caterva2[services]==2025.8.7) (2.1.4)\r\n",
      "Requirement already satisfied: h5py in /home/lshaw/miniforge3/envs/blosc2env/lib/python3.12/site-packages (from caterva2[services]==2025.8.7) (3.13.0)\r\n",
      "Requirement already satisfied: hdf5plugin in /home/lshaw/miniforge3/envs/blosc2env/lib/python3.12/site-packages (from caterva2[services]==2025.8.7) (5.1.0)\r\n",
      "Requirement already satisfied: jinja2 in /home/lshaw/miniforge3/envs/blosc2env/lib/python3.12/site-packages (from caterva2[services]==2025.8.7) (3.1.6)\r\n",
      "Requirement already satisfied: jupyterlite-core==0.6.2 in /home/lshaw/miniforge3/envs/blosc2env/lib/python3.12/site-packages (from jupyterlite-core[contents]==0.6.2; extra == \"services\"->caterva2[services]==2025.8.7) (0.6.2)\r\n",
      "Requirement already satisfied: jupyterlite-pyodide-kernel==0.6.1 in /home/lshaw/miniforge3/envs/blosc2env/lib/python3.12/site-packages (from caterva2[services]==2025.8.7) (0.6.1)\r\n",
      "Requirement already satisfied: markdown in /home/lshaw/miniforge3/envs/blosc2env/lib/python3.12/site-packages (from caterva2[services]==2025.8.7) (3.8.2)\r\n",
      "Requirement already satisfied: msgpack in /home/lshaw/miniforge3/envs/blosc2env/lib/python3.12/site-packages (from caterva2[services]==2025.8.7) (1.1.0)\r\n",
      "Requirement already satisfied: nbconvert in /home/lshaw/miniforge3/envs/blosc2env/lib/python3.12/site-packages (from caterva2[services]==2025.8.7) (7.16.6)\r\n",
      "Requirement already satisfied: pillow in /home/lshaw/miniforge3/envs/blosc2env/lib/python3.12/site-packages (from caterva2[services]==2025.8.7) (11.3.0)\r\n",
      "Requirement already satisfied: pydantic>=2 in /home/lshaw/miniforge3/envs/blosc2env/lib/python3.12/site-packages (from caterva2[services]==2025.8.7) (2.11.5)\r\n",
      "Requirement already satisfied: python-dotenv in /home/lshaw/miniforge3/envs/blosc2env/lib/python3.12/site-packages (from caterva2[services]==2025.8.7) (1.1.0)\r\n",
      "Requirement already satisfied: python-multipart in /home/lshaw/miniforge3/envs/blosc2env/lib/python3.12/site-packages (from caterva2[services]==2025.8.7) (0.0.20)\r\n",
      "Requirement already satisfied: safer in /home/lshaw/miniforge3/envs/blosc2env/lib/python3.12/site-packages (from caterva2[services]==2025.8.7) (5.1.0)\r\n",
      "Requirement already satisfied: uvicorn in /home/lshaw/miniforge3/envs/blosc2env/lib/python3.12/site-packages (from caterva2[services]==2025.8.7) (0.35.0)\r\n",
      "Requirement already satisfied: watchfiles in /home/lshaw/miniforge3/envs/blosc2env/lib/python3.12/site-packages (from caterva2[services]==2025.8.7) (1.1.0)\r\n",
      "Requirement already satisfied: doit<1,>=0.34 in /home/lshaw/miniforge3/envs/blosc2env/lib/python3.12/site-packages (from jupyterlite-core==0.6.2->jupyterlite-core[contents]==0.6.2; extra == \"services\"->caterva2[services]==2025.8.7) (0.36.0)\r\n",
      "Requirement already satisfied: jupyter-core>=4.7 in /home/lshaw/miniforge3/envs/blosc2env/lib/python3.12/site-packages (from jupyterlite-core==0.6.2->jupyterlite-core[contents]==0.6.2; extra == \"services\"->caterva2[services]==2025.8.7) (5.7.2)\r\n",
      "Requirement already satisfied: jupyter-server in /home/lshaw/miniforge3/envs/blosc2env/lib/python3.12/site-packages (from jupyterlite-core[contents]==0.6.2; extra == \"services\"->caterva2[services]==2025.8.7) (2.15.0)\r\n",
      "Requirement already satisfied: pkginfo in /home/lshaw/miniforge3/envs/blosc2env/lib/python3.12/site-packages (from jupyterlite-pyodide-kernel==0.6.1->caterva2[services]==2025.8.7) (1.12.1.2)\r\n",
      "Requirement already satisfied: numpy in /home/lshaw/miniforge3/envs/blosc2env/lib/python3.12/site-packages (from b2h5py>=0.5.1->caterva2[services]==2025.8.7) (2.2.6)\r\n",
      "Requirement already satisfied: ndindex in /home/lshaw/miniforge3/envs/blosc2env/lib/python3.12/site-packages (from blosc2>=3.2.0->caterva2==2025.8.7->caterva2[services]==2025.8.7) (1.10.0)\r\n",
      "Requirement already satisfied: platformdirs in /home/lshaw/miniforge3/envs/blosc2env/lib/python3.12/site-packages (from blosc2>=3.2.0->caterva2==2025.8.7->caterva2[services]==2025.8.7) (4.3.7)\r\n",
      "Requirement already satisfied: numexpr in /home/lshaw/miniforge3/envs/blosc2env/lib/python3.12/site-packages (from blosc2>=3.2.0->caterva2==2025.8.7->caterva2[services]==2025.8.7) (2.11.0)\r\n",
      "Requirement already satisfied: py-cpuinfo in /home/lshaw/miniforge3/envs/blosc2env/lib/python3.12/site-packages (from blosc2>=3.2.0->caterva2==2025.8.7->caterva2[services]==2025.8.7) (9.0.0)\r\n",
      "Requirement already satisfied: requests in /home/lshaw/miniforge3/envs/blosc2env/lib/python3.12/site-packages (from blosc2>=3.2.0->caterva2==2025.8.7->caterva2[services]==2025.8.7) (2.32.3)\r\n",
      "Requirement already satisfied: starlette<0.47.0,>=0.40.0 in /home/lshaw/miniforge3/envs/blosc2env/lib/python3.12/site-packages (from fastapi>=0.109->caterva2[services]==2025.8.7) (0.46.2)\r\n",
      "Requirement already satisfied: typing-extensions>=4.8.0 in /home/lshaw/miniforge3/envs/blosc2env/lib/python3.12/site-packages (from fastapi>=0.109->caterva2[services]==2025.8.7) (4.13.2)\r\n",
      "Requirement already satisfied: annotated-types>=0.6.0 in /home/lshaw/miniforge3/envs/blosc2env/lib/python3.12/site-packages (from pydantic>=2->caterva2[services]==2025.8.7) (0.7.0)\r\n",
      "Requirement already satisfied: pydantic-core==2.33.2 in /home/lshaw/miniforge3/envs/blosc2env/lib/python3.12/site-packages (from pydantic>=2->caterva2[services]==2025.8.7) (2.33.2)\r\n",
      "Requirement already satisfied: typing-inspection>=0.4.0 in /home/lshaw/miniforge3/envs/blosc2env/lib/python3.12/site-packages (from pydantic>=2->caterva2[services]==2025.8.7) (0.4.1)\r\n",
      "Requirement already satisfied: aiosmtplib<4.0.0,>=3.0.2 in /home/lshaw/miniforge3/envs/blosc2env/lib/python3.12/site-packages (from fastapi-mail->caterva2[services]==2025.8.7) (3.0.2)\r\n",
      "Requirement already satisfied: blinker<2.0,>=1.5 in /home/lshaw/miniforge3/envs/blosc2env/lib/python3.12/site-packages (from fastapi-mail->caterva2[services]==2025.8.7) (1.9.0)\r\n",
      "Requirement already satisfied: email-validator<3.0.0,>=2.2.0 in /home/lshaw/miniforge3/envs/blosc2env/lib/python3.12/site-packages (from fastapi-mail->caterva2[services]==2025.8.7) (2.2.0)\r\n",
      "Requirement already satisfied: pydantic-settings<3.0.0,>=2.6.1 in /home/lshaw/miniforge3/envs/blosc2env/lib/python3.12/site-packages (from fastapi-mail->caterva2[services]==2025.8.7) (2.10.1)\r\n",
      "Requirement already satisfied: MarkupSafe>=2.0 in /home/lshaw/miniforge3/envs/blosc2env/lib/python3.12/site-packages (from jinja2->caterva2[services]==2025.8.7) (3.0.2)\r\n",
      "Requirement already satisfied: makefun<2.0.0,>=1.11.2 in /home/lshaw/miniforge3/envs/blosc2env/lib/python3.12/site-packages (from fastapi-users[sqlalchemy]; extra == \"services\"->caterva2[services]==2025.8.7) (1.16.0)\r\n",
      "Requirement already satisfied: pwdlib==0.2.1 in /home/lshaw/miniforge3/envs/blosc2env/lib/python3.12/site-packages (from pwdlib[argon2,bcrypt]==0.2.1->fastapi-users[sqlalchemy]; extra == \"services\"->caterva2[services]==2025.8.7) (0.2.1)\r\n",
      "Requirement already satisfied: pyjwt==2.10.1 in /home/lshaw/miniforge3/envs/blosc2env/lib/python3.12/site-packages (from pyjwt[crypto]==2.10.1->fastapi-users[sqlalchemy]; extra == \"services\"->caterva2[services]==2025.8.7) (2.10.1)\r\n",
      "Requirement already satisfied: fastapi-users-db-sqlalchemy>=7.0.0 in /home/lshaw/miniforge3/envs/blosc2env/lib/python3.12/site-packages (from fastapi-users[sqlalchemy]; extra == \"services\"->caterva2[services]==2025.8.7) (7.0.0)\r\n",
      "Requirement already satisfied: argon2-cffi<24,>=23.1.0 in /home/lshaw/miniforge3/envs/blosc2env/lib/python3.12/site-packages (from pwdlib[argon2,bcrypt]==0.2.1->fastapi-users[sqlalchemy]; extra == \"services\"->caterva2[services]==2025.8.7) (23.1.0)\r\n",
      "Requirement already satisfied: bcrypt<5,>=4.1.2 in /home/lshaw/miniforge3/envs/blosc2env/lib/python3.12/site-packages (from pwdlib[argon2,bcrypt]==0.2.1->fastapi-users[sqlalchemy]; extra == \"services\"->caterva2[services]==2025.8.7) (4.3.0)\r\n",
      "Requirement already satisfied: cryptography>=3.4.0 in /home/lshaw/miniforge3/envs/blosc2env/lib/python3.12/site-packages (from pyjwt[crypto]==2.10.1->fastapi-users[sqlalchemy]; extra == \"services\"->caterva2[services]==2025.8.7) (45.0.6)\r\n",
      "Requirement already satisfied: six>=1.8.0 in /home/lshaw/miniforge3/envs/blosc2env/lib/python3.12/site-packages (from furl->caterva2[services]==2025.8.7) (1.17.0)\r\n",
      "Requirement already satisfied: orderedmultidict>=1.0.1 in /home/lshaw/miniforge3/envs/blosc2env/lib/python3.12/site-packages (from furl->caterva2[services]==2025.8.7) (1.0.1)\r\n",
      "Requirement already satisfied: anyio in /home/lshaw/miniforge3/envs/blosc2env/lib/python3.12/site-packages (from httpx->caterva2==2025.8.7->caterva2[services]==2025.8.7) (4.9.0)\r\n",
      "Requirement already satisfied: certifi in /home/lshaw/miniforge3/envs/blosc2env/lib/python3.12/site-packages (from httpx->caterva2==2025.8.7->caterva2[services]==2025.8.7) (2025.8.3)\r\n",
      "Requirement already satisfied: httpcore==1.* in /home/lshaw/miniforge3/envs/blosc2env/lib/python3.12/site-packages (from httpx->caterva2==2025.8.7->caterva2[services]==2025.8.7) (1.0.8)\r\n",
      "Requirement already satisfied: idna in /home/lshaw/miniforge3/envs/blosc2env/lib/python3.12/site-packages (from httpx->caterva2==2025.8.7->caterva2[services]==2025.8.7) (3.10)\r\n",
      "Requirement already satisfied: h11<0.15,>=0.13 in /home/lshaw/miniforge3/envs/blosc2env/lib/python3.12/site-packages (from httpcore==1.*->httpx->caterva2==2025.8.7->caterva2[services]==2025.8.7) (0.14.0)\r\n",
      "Requirement already satisfied: beautifulsoup4 in /home/lshaw/miniforge3/envs/blosc2env/lib/python3.12/site-packages (from nbconvert->caterva2[services]==2025.8.7) (4.13.4)\r\n",
      "Requirement already satisfied: bleach!=5.0.0 in /home/lshaw/miniforge3/envs/blosc2env/lib/python3.12/site-packages (from bleach[css]!=5.0.0->nbconvert->caterva2[services]==2025.8.7) (6.2.0)\r\n",
      "Requirement already satisfied: defusedxml in /home/lshaw/miniforge3/envs/blosc2env/lib/python3.12/site-packages (from nbconvert->caterva2[services]==2025.8.7) (0.7.1)\r\n",
      "Requirement already satisfied: jupyterlab-pygments in /home/lshaw/miniforge3/envs/blosc2env/lib/python3.12/site-packages (from nbconvert->caterva2[services]==2025.8.7) (0.3.0)\r\n",
      "Requirement already satisfied: mistune<4,>=2.0.3 in /home/lshaw/miniforge3/envs/blosc2env/lib/python3.12/site-packages (from nbconvert->caterva2[services]==2025.8.7) (3.1.3)\r\n",
      "Requirement already satisfied: nbclient>=0.5.0 in /home/lshaw/miniforge3/envs/blosc2env/lib/python3.12/site-packages (from nbconvert->caterva2[services]==2025.8.7) (0.10.2)\r\n",
      "Requirement already satisfied: nbformat>=5.7 in /home/lshaw/miniforge3/envs/blosc2env/lib/python3.12/site-packages (from nbconvert->caterva2[services]==2025.8.7) (5.10.4)\r\n",
      "Requirement already satisfied: packaging in /home/lshaw/miniforge3/envs/blosc2env/lib/python3.12/site-packages (from nbconvert->caterva2[services]==2025.8.7) (24.2)\r\n",
      "Requirement already satisfied: pandocfilters>=1.4.1 in /home/lshaw/miniforge3/envs/blosc2env/lib/python3.12/site-packages (from nbconvert->caterva2[services]==2025.8.7) (1.5.1)\r\n",
      "Requirement already satisfied: pygments>=2.4.1 in /home/lshaw/miniforge3/envs/blosc2env/lib/python3.12/site-packages (from nbconvert->caterva2[services]==2025.8.7) (2.19.1)\r\n",
      "Requirement already satisfied: traitlets>=5.1 in /home/lshaw/miniforge3/envs/blosc2env/lib/python3.12/site-packages (from nbconvert->caterva2[services]==2025.8.7) (5.14.3)\r\n",
      "Requirement already satisfied: click>=7.0 in /home/lshaw/miniforge3/envs/blosc2env/lib/python3.12/site-packages (from uvicorn->caterva2[services]==2025.8.7) (8.1.8)\r\n",
      "Requirement already satisfied: httptools>=0.6.3 in /home/lshaw/miniforge3/envs/blosc2env/lib/python3.12/site-packages (from uvicorn[standard]; extra == \"services\"->caterva2[services]==2025.8.7) (0.6.4)\r\n",
      "Requirement already satisfied: pyyaml>=5.1 in /home/lshaw/miniforge3/envs/blosc2env/lib/python3.12/site-packages (from uvicorn[standard]; extra == \"services\"->caterva2[services]==2025.8.7) (6.0.2)\r\n",
      "Requirement already satisfied: uvloop>=0.15.1 in /home/lshaw/miniforge3/envs/blosc2env/lib/python3.12/site-packages (from uvicorn[standard]; extra == \"services\"->caterva2[services]==2025.8.7) (0.21.0)\r\n",
      "Requirement already satisfied: websockets>=10.4 in /home/lshaw/miniforge3/envs/blosc2env/lib/python3.12/site-packages (from uvicorn[standard]; extra == \"services\"->caterva2[services]==2025.8.7) (15.0.1)\r\n",
      "Requirement already satisfied: sniffio>=1.1 in /home/lshaw/miniforge3/envs/blosc2env/lib/python3.12/site-packages (from anyio->httpx->caterva2==2025.8.7->caterva2[services]==2025.8.7) (1.3.1)\r\n",
      "Requirement already satisfied: webencodings in /home/lshaw/miniforge3/envs/blosc2env/lib/python3.12/site-packages (from bleach!=5.0.0->bleach[css]!=5.0.0->nbconvert->caterva2[services]==2025.8.7) (0.5.1)\r\n",
      "Requirement already satisfied: tinycss2<1.5,>=1.1.0 in /home/lshaw/miniforge3/envs/blosc2env/lib/python3.12/site-packages (from bleach[css]!=5.0.0->nbconvert->caterva2[services]==2025.8.7) (1.4.0)\r\n",
      "Requirement already satisfied: cloudpickle in /home/lshaw/miniforge3/envs/blosc2env/lib/python3.12/site-packages (from doit<1,>=0.34->jupyterlite-core==0.6.2->jupyterlite-core[contents]==0.6.2; extra == \"services\"->caterva2[services]==2025.8.7) (3.1.1)\r\n",
      "Requirement already satisfied: importlib-metadata>=4.4 in /home/lshaw/miniforge3/envs/blosc2env/lib/python3.12/site-packages (from doit<1,>=0.34->jupyterlite-core==0.6.2->jupyterlite-core[contents]==0.6.2; extra == \"services\"->caterva2[services]==2025.8.7) (8.7.0)\r\n",
      "Requirement already satisfied: dnspython>=2.0.0 in /home/lshaw/miniforge3/envs/blosc2env/lib/python3.12/site-packages (from email-validator<3.0.0,>=2.2.0->fastapi-mail->caterva2[services]==2025.8.7) (2.7.0)\r\n",
      "Requirement already satisfied: sqlalchemy<2.1.0,>=2.0.0 in /home/lshaw/miniforge3/envs/blosc2env/lib/python3.12/site-packages (from sqlalchemy[asyncio]<2.1.0,>=2.0.0->fastapi-users-db-sqlalchemy>=7.0.0->fastapi-users[sqlalchemy]; extra == \"services\"->caterva2[services]==2025.8.7) (2.0.43)\r\n",
      "Requirement already satisfied: jupyter-client>=6.1.12 in /home/lshaw/miniforge3/envs/blosc2env/lib/python3.12/site-packages (from nbclient>=0.5.0->nbconvert->caterva2[services]==2025.8.7) (8.6.3)\r\n",
      "Requirement already satisfied: fastjsonschema>=2.15 in /home/lshaw/miniforge3/envs/blosc2env/lib/python3.12/site-packages (from nbformat>=5.7->nbconvert->caterva2[services]==2025.8.7) (2.21.1)\r\n",
      "Requirement already satisfied: jsonschema>=2.6 in /home/lshaw/miniforge3/envs/blosc2env/lib/python3.12/site-packages (from nbformat>=5.7->nbconvert->caterva2[services]==2025.8.7) (4.23.0)\r\n",
      "Requirement already satisfied: soupsieve>1.2 in /home/lshaw/miniforge3/envs/blosc2env/lib/python3.12/site-packages (from beautifulsoup4->nbconvert->caterva2[services]==2025.8.7) (2.6)\r\n",
      "Requirement already satisfied: jupyter-events>=0.11.0 in /home/lshaw/miniforge3/envs/blosc2env/lib/python3.12/site-packages (from jupyter-server->jupyterlite-core[contents]==0.6.2; extra == \"services\"->caterva2[services]==2025.8.7) (0.12.0)\r\n",
      "Requirement already satisfied: jupyter-server-terminals>=0.4.4 in /home/lshaw/miniforge3/envs/blosc2env/lib/python3.12/site-packages (from jupyter-server->jupyterlite-core[contents]==0.6.2; extra == \"services\"->caterva2[services]==2025.8.7) (0.5.3)\r\n",
      "Requirement already satisfied: overrides>=5.0 in /home/lshaw/miniforge3/envs/blosc2env/lib/python3.12/site-packages (from jupyter-server->jupyterlite-core[contents]==0.6.2; extra == \"services\"->caterva2[services]==2025.8.7) (7.7.0)\r\n",
      "Requirement already satisfied: prometheus-client>=0.9 in /home/lshaw/miniforge3/envs/blosc2env/lib/python3.12/site-packages (from jupyter-server->jupyterlite-core[contents]==0.6.2; extra == \"services\"->caterva2[services]==2025.8.7) (0.21.1)\r\n",
      "Requirement already satisfied: pyzmq>=24 in /home/lshaw/miniforge3/envs/blosc2env/lib/python3.12/site-packages (from jupyter-server->jupyterlite-core[contents]==0.6.2; extra == \"services\"->caterva2[services]==2025.8.7) (26.4.0)\r\n",
      "Requirement already satisfied: send2trash>=1.8.2 in /home/lshaw/miniforge3/envs/blosc2env/lib/python3.12/site-packages (from jupyter-server->jupyterlite-core[contents]==0.6.2; extra == \"services\"->caterva2[services]==2025.8.7) (1.8.3)\r\n",
      "Requirement already satisfied: terminado>=0.8.3 in /home/lshaw/miniforge3/envs/blosc2env/lib/python3.12/site-packages (from jupyter-server->jupyterlite-core[contents]==0.6.2; extra == \"services\"->caterva2[services]==2025.8.7) (0.18.1)\r\n",
      "Requirement already satisfied: tornado>=6.2.0 in /home/lshaw/miniforge3/envs/blosc2env/lib/python3.12/site-packages (from jupyter-server->jupyterlite-core[contents]==0.6.2; extra == \"services\"->caterva2[services]==2025.8.7) (6.5.1)\r\n",
      "Requirement already satisfied: websocket-client>=1.7 in /home/lshaw/miniforge3/envs/blosc2env/lib/python3.12/site-packages (from jupyter-server->jupyterlite-core[contents]==0.6.2; extra == \"services\"->caterva2[services]==2025.8.7) (1.8.0)\r\n",
      "Requirement already satisfied: charset-normalizer<4,>=2 in /home/lshaw/miniforge3/envs/blosc2env/lib/python3.12/site-packages (from requests->blosc2>=3.2.0->caterva2==2025.8.7->caterva2[services]==2025.8.7) (3.4.2)\r\n",
      "Requirement already satisfied: urllib3<3,>=1.21.1 in /home/lshaw/miniforge3/envs/blosc2env/lib/python3.12/site-packages (from requests->blosc2>=3.2.0->caterva2==2025.8.7->caterva2[services]==2025.8.7) (2.5.0)\r\n",
      "Requirement already satisfied: argon2-cffi-bindings in /home/lshaw/miniforge3/envs/blosc2env/lib/python3.12/site-packages (from argon2-cffi<24,>=23.1.0->pwdlib[argon2,bcrypt]==0.2.1->fastapi-users[sqlalchemy]; extra == \"services\"->caterva2[services]==2025.8.7) (21.2.0)\r\n",
      "Requirement already satisfied: cffi>=1.14 in /home/lshaw/miniforge3/envs/blosc2env/lib/python3.12/site-packages (from cryptography>=3.4.0->pyjwt[crypto]==2.10.1->fastapi-users[sqlalchemy]; extra == \"services\"->caterva2[services]==2025.8.7) (1.17.1)\r\n",
      "Requirement already satisfied: zipp>=3.20 in /home/lshaw/miniforge3/envs/blosc2env/lib/python3.12/site-packages (from importlib-metadata>=4.4->doit<1,>=0.34->jupyterlite-core==0.6.2->jupyterlite-core[contents]==0.6.2; extra == \"services\"->caterva2[services]==2025.8.7) (3.23.0)\r\n",
      "Requirement already satisfied: attrs>=22.2.0 in /home/lshaw/miniforge3/envs/blosc2env/lib/python3.12/site-packages (from jsonschema>=2.6->nbformat>=5.7->nbconvert->caterva2[services]==2025.8.7) (25.3.0)\r\n",
      "Requirement already satisfied: jsonschema-specifications>=2023.03.6 in /home/lshaw/miniforge3/envs/blosc2env/lib/python3.12/site-packages (from jsonschema>=2.6->nbformat>=5.7->nbconvert->caterva2[services]==2025.8.7) (2024.10.1)\r\n",
      "Requirement already satisfied: referencing>=0.28.4 in /home/lshaw/miniforge3/envs/blosc2env/lib/python3.12/site-packages (from jsonschema>=2.6->nbformat>=5.7->nbconvert->caterva2[services]==2025.8.7) (0.36.2)\r\n",
      "Requirement already satisfied: rpds-py>=0.7.1 in /home/lshaw/miniforge3/envs/blosc2env/lib/python3.12/site-packages (from jsonschema>=2.6->nbformat>=5.7->nbconvert->caterva2[services]==2025.8.7) (0.24.0)\r\n",
      "Requirement already satisfied: python-dateutil>=2.8.2 in /home/lshaw/miniforge3/envs/blosc2env/lib/python3.12/site-packages (from jupyter-client>=6.1.12->nbclient>=0.5.0->nbconvert->caterva2[services]==2025.8.7) (2.9.0.post0)\r\n",
      "Requirement already satisfied: python-json-logger>=2.0.4 in /home/lshaw/miniforge3/envs/blosc2env/lib/python3.12/site-packages (from jupyter-events>=0.11.0->jupyter-server->jupyterlite-core[contents]==0.6.2; extra == \"services\"->caterva2[services]==2025.8.7) (3.3.0)\r\n",
      "Requirement already satisfied: rfc3339-validator in /home/lshaw/miniforge3/envs/blosc2env/lib/python3.12/site-packages (from jupyter-events>=0.11.0->jupyter-server->jupyterlite-core[contents]==0.6.2; extra == \"services\"->caterva2[services]==2025.8.7) (0.1.4)\r\n",
      "Requirement already satisfied: rfc3986-validator>=0.1.1 in /home/lshaw/miniforge3/envs/blosc2env/lib/python3.12/site-packages (from jupyter-events>=0.11.0->jupyter-server->jupyterlite-core[contents]==0.6.2; extra == \"services\"->caterva2[services]==2025.8.7) (0.1.1)\r\n",
      "Requirement already satisfied: greenlet>=1 in /home/lshaw/miniforge3/envs/blosc2env/lib/python3.12/site-packages (from sqlalchemy<2.1.0,>=2.0.0->sqlalchemy[asyncio]<2.1.0,>=2.0.0->fastapi-users-db-sqlalchemy>=7.0.0->fastapi-users[sqlalchemy]; extra == \"services\"->caterva2[services]==2025.8.7) (3.2.4)\r\n",
      "Requirement already satisfied: ptyprocess in /home/lshaw/miniforge3/envs/blosc2env/lib/python3.12/site-packages (from terminado>=0.8.3->jupyter-server->jupyterlite-core[contents]==0.6.2; extra == \"services\"->caterva2[services]==2025.8.7) (0.7.0)\r\n",
      "Requirement already satisfied: pycparser in /home/lshaw/miniforge3/envs/blosc2env/lib/python3.12/site-packages (from cffi>=1.14->cryptography>=3.4.0->pyjwt[crypto]==2.10.1->fastapi-users[sqlalchemy]; extra == \"services\"->caterva2[services]==2025.8.7) (2.22)\r\n",
      "Requirement already satisfied: fqdn in /home/lshaw/miniforge3/envs/blosc2env/lib/python3.12/site-packages (from jsonschema[format-nongpl]>=4.18.0->jupyter-events>=0.11.0->jupyter-server->jupyterlite-core[contents]==0.6.2; extra == \"services\"->caterva2[services]==2025.8.7) (1.5.1)\r\n",
      "Requirement already satisfied: isoduration in /home/lshaw/miniforge3/envs/blosc2env/lib/python3.12/site-packages (from jsonschema[format-nongpl]>=4.18.0->jupyter-events>=0.11.0->jupyter-server->jupyterlite-core[contents]==0.6.2; extra == \"services\"->caterva2[services]==2025.8.7) (20.11.0)\r\n",
      "Requirement already satisfied: jsonpointer>1.13 in /home/lshaw/miniforge3/envs/blosc2env/lib/python3.12/site-packages (from jsonschema[format-nongpl]>=4.18.0->jupyter-events>=0.11.0->jupyter-server->jupyterlite-core[contents]==0.6.2; extra == \"services\"->caterva2[services]==2025.8.7) (3.0.0)\r\n",
      "Requirement already satisfied: uri-template in /home/lshaw/miniforge3/envs/blosc2env/lib/python3.12/site-packages (from jsonschema[format-nongpl]>=4.18.0->jupyter-events>=0.11.0->jupyter-server->jupyterlite-core[contents]==0.6.2; extra == \"services\"->caterva2[services]==2025.8.7) (1.3.0)\r\n",
      "Requirement already satisfied: webcolors>=24.6.0 in /home/lshaw/miniforge3/envs/blosc2env/lib/python3.12/site-packages (from jsonschema[format-nongpl]>=4.18.0->jupyter-events>=0.11.0->jupyter-server->jupyterlite-core[contents]==0.6.2; extra == \"services\"->caterva2[services]==2025.8.7) (24.11.1)\r\n",
      "Requirement already satisfied: arrow>=0.15.0 in /home/lshaw/miniforge3/envs/blosc2env/lib/python3.12/site-packages (from isoduration->jsonschema[format-nongpl]>=4.18.0->jupyter-events>=0.11.0->jupyter-server->jupyterlite-core[contents]==0.6.2; extra == \"services\"->caterva2[services]==2025.8.7) (1.3.0)\r\n",
      "Requirement already satisfied: types-python-dateutil>=2.8.10 in /home/lshaw/miniforge3/envs/blosc2env/lib/python3.12/site-packages (from arrow>=0.15.0->isoduration->jsonschema[format-nongpl]>=4.18.0->jupyter-events>=0.11.0->jupyter-server->jupyterlite-core[contents]==0.6.2; extra == \"services\"->caterva2[services]==2025.8.7) (2.9.0.20241206)\r\n",
      "Using cached b2h5py-0.5.1-py3-none-any.whl (16 kB)\r\n",
      "Installing collected packages: b2h5py\r\n",
      "Successfully installed b2h5py-0.5.1\r\n",
      "/bin/bash: warning: setlocale: LC_ALL: cannot change locale (en_US.UTF-8)\r\n",
      "Requirement already satisfied: memory_profiler in /home/lshaw/miniforge3/envs/blosc2env/lib/python3.12/site-packages (0.61.0)\r\n",
      "Requirement already satisfied: psutil in /home/lshaw/miniforge3/envs/blosc2env/lib/python3.12/site-packages (from memory_profiler) (7.0.0)\r\n"
     ]
    }
   ],
   "execution_count": 9
  },
  {
   "id": "2f2e41b4-44ec-458b-9949-b73ea1ee1350",
   "cell_type": "code",
   "source": [
    "import math\n",
    "import blosc2\n",
    "import caterva2 as cat2\n",
    "import numpy as np\n",
    "import psutil\n",
    "import os\n",
    "import time\n",
    "\n",
    "%load_ext memory_profiler\n",
    "\n",
    "# --- Memory profiler ---\n",
    "def getmem():\n",
    "    process = psutil.Process(os.getpid())\n",
    "    return process.memory_info().rss / 1024 / 1024"
   ],
   "metadata": {
    "trusted": true,
    "ExecuteTime": {
     "end_time": "2025-08-12T16:09:35.613856Z",
     "start_time": "2025-08-12T16:09:35.606666Z"
    }
   },
   "outputs": [
    {
     "name": "stdout",
     "output_type": "stream",
     "text": [
      "The memory_profiler extension is already loaded. To reload it, use:\n",
      "  %reload_ext memory_profiler\n"
     ]
    }
   ],
   "execution_count": 7
  },
  {
   "metadata": {},
   "cell_type": "markdown",
   "source": "First, we need to connect to the remote server - we have a demo running at `https://cat2.cloud/demo` that's good to get you started quickly.",
   "id": "66837447f20b7ebf"
  },
  {
   "id": "d4305fc6-675e-4e11-8152-f23e6ad9b648",
   "cell_type": "code",
   "source": [
    "urlbase = \"https://cat2.cloud/demo\"\n",
    "root = \"@public\"\n",
    "dataset1 = \"examples/cube-1k-1k-1k.b2nd\"\n",
    "dataset2 = \"examples/ds-1d.b2nd\""
   ],
   "metadata": {
    "trusted": true,
    "ExecuteTime": {
     "end_time": "2025-08-12T15:40:14.820624Z",
     "start_time": "2025-08-12T15:40:14.814296Z"
    }
   },
   "outputs": [],
   "execution_count": 3
  },
  {
   "id": "a98d0042-6193-45ce-8b64-3bdd604321bf",
   "cell_type": "markdown",
   "source": [
    "### Blosc2 approach: simple, but allows slicing of remote datasets\n",
    "\n",
    "Noe let's access the remote dataset using Blosc2, which is possible using essentially the same interface as for datasets stored on disk - the only difference is that we need to wrap the urlpath as a `blosc2.URLPath` object, to indicate that we are accessing a remote dataset.\n"
   ],
   "metadata": {}
  },
  {
   "id": "34eb55a6-ed02-4c89-87ab-d5a38ff6a91c",
   "cell_type": "code",
   "source": [
    "urlpath = blosc2.URLPath(f\"{root}/{dataset1}\", urlbase)\n",
    "m0 = getmem()\n",
    "t0 = time.time()\n",
    "blosc_arr1 = blosc2.open(urlpath, mode=\"r\")\n",
    "print(\"Time to open remote dataset 1:\", time.time() - t0, 's')\n",
    "print(\"Memory usage after opening remote dataset 1:\", getmem() - m0, \"MB\")\n",
    "\n",
    "urlpath = blosc2.URLPath(f\"{root}/{dataset2}\", urlbase)\n",
    "m0 = getmem()\n",
    "t0 = time.time()\n",
    "blosc_arr2 = blosc2.open(urlpath, mode=\"r\")\n",
    "print(\"Time to open remote dataset 2:\", time.time() - t0, 's')\n",
    "print(\"Memory usage after opening remote dataset 2:\", getmem() - m0, \"MB\")"
   ],
   "metadata": {
    "trusted": true,
    "ExecuteTime": {
     "end_time": "2025-08-12T15:40:15.381265Z",
     "start_time": "2025-08-12T15:40:15.066841Z"
    }
   },
   "outputs": [
    {
     "name": "stdout",
     "output_type": "stream",
     "text": [
      "Time to open remote dataset 1: 0.18219566345214844 s\n",
      "Memory usage after opening remote dataset 1: 0.625 MB\n",
      "Time to open remote dataset 2: 0.12601518630981445 s\n",
      "Memory usage after opening remote dataset 2: 0.0 MB\n"
     ]
    }
   ],
   "execution_count": 4
  },
  {
   "metadata": {},
   "cell_type": "markdown",
   "source": [
    "**EXERCISE**:\n",
    "\n",
    "a) Print out the shapes of the datasets and calculate their size (in MB). You will find that ``arr.schunk.nbytes`` does not work, since the variable is not a Blosc2 NDArray, and so you must calculate the nbytes manually using the `shape`, and `dtype` attributes as in the previous tutorials. What class is are the arrays instances of? Why is it that opening the remote dataset uses no memory when the dataset is so large?\n",
    "\n",
    "b) You should find that the remote access to the dataset has returned a ``C2Array`` object, which is a (memory-light) pointer to the remote dataset. Try and get a slice of one of the datasets, e.g. `blosc_arr1[500:502, 302, 900:905]`, and print out its type. Profile the time and memory consumption of this operation, and compare it to the time and memory consumption of opening the remote dataset.\n",
    "\n",
    "c) Define a simple lazy expression using both arrays and execute it with ``[:]``, returning a NumPy array. Profile the time and memory usage for the operation. You can use ``%memit`` or ``getmem()`` as you prefer. You can also check what happens when you only compute a small slice of the result (is it any faster? how much memory is used?)."
   ],
   "id": "3ca5c4e45fe41aab"
  },
  {
   "id": "edeb5963-ba4c-4170-90a6-08980834a47f",
   "cell_type": "code",
   "source": [
    "# a) Calculate the shape and nbytes of the dataset, and print out the type of blosc2_ds\n",
    "#\n",
    "## YOUR CODE HERE\n",
    "#\n",
    "\n",
    "# b) Get a slice of blosc2_ds, print out its type, and profile time and memory consumption\n",
    "#\n",
    "##YOUR CODE HERE\n",
    "#\n",
    "\n",
    "# c) Define a simple lazy expression using blosc2_ds and compute it\n",
    "#\n",
    "##YOUR CODE HERE\n",
    "#\n",
    "\n",
    "del result"
   ],
   "metadata": {
    "trusted": true,
    "ExecuteTime": {
     "end_time": "2025-08-12T15:44:30.051990Z",
     "start_time": "2025-08-12T15:43:33.902923Z"
    }
   },
   "outputs": [
    {
     "name": "stdout",
     "output_type": "stream",
     "text": [
      "peak memory: 7936.59 MiB, increment: 7820.34 MiB\n",
      "Time to compute lazy expression: 56.08701419830322 s\n",
      "result occupies 7629.39453125 MB\n"
     ]
    }
   ],
   "execution_count": 12
  },
  {
   "id": "9da4112c-d607-464e-adbc-6bb1664a20d9",
   "cell_type": "markdown",
   "source": [
    "### Caterva2 approach: more flexible, allowing remote management in the server\n",
    "\n",
    "Using blosc2 we thus can access remote datasets and download necessary slices. However, in order to do computations, we must download data to the local machine and compute with it, which could be excessively computationally demanding. Moreover, we cannot manage do file management on the server side (move, delete, copy datasets, etc.).\n",
    "\n",
    "These problems are solved by Caterva2, which allows us to work with remote datasets in a more flexible way, doing as much as possible on the server side, and only downloading the data we really want to consult. You can also perform all sorts of file management operations on the server side - see the [Caterva2 documentation](https://ironarray.io/caterva2-doc/tutorials/API.html).\n",
    "\n",
    "First we set up a connection from the client (our local machine) to the server, and define a pointer to the root where our desired dataset is stored. The root is a special directory that contains all the datasets we want to work with, and it is defined by the `@` symbol followed by the name of the root (in this case, `@public`). We'll then time the process of opening the remote dataset, and check the memory usage before and after opening it."
   ],
   "metadata": {}
  },
  {
   "metadata": {
    "ExecuteTime": {
     "end_time": "2025-08-12T15:40:30.163442Z",
     "start_time": "2025-08-12T15:40:30.160931Z"
    }
   },
   "cell_type": "code",
   "source": [
    "client = cat2.Client(urlbase)\n",
    "myroot = client.get(root)"
   ],
   "id": "7088b9fb96b83d67",
   "outputs": [],
   "execution_count": 6
  },
  {
   "id": "36746c32-6669-44ea-818e-9b08d6638bc6",
   "cell_type": "code",
   "source": [
    "m0 = getmem()\n",
    "t0 = time.time()\n",
    "cat2_arr1 = myroot[dataset1]\n",
    "print(\"Time to open remote dataset 1:\", time.time() - t0, 's')\n",
    "print(\"Memory usage after opening remote dataset 1:\", getmem() - m0, \"MB\")\n",
    "\n",
    "m0 = getmem()\n",
    "t0 = time.time()\n",
    "cat2_arr2 = myroot[dataset2]\n",
    "print(\"Time to open remote dataset 2:\", time.time() - t0, 's')\n",
    "print(\"Memory usage after opening remote dataset 2:\", getmem() - m0, \"MB\")"
   ],
   "metadata": {
    "trusted": true,
    "ExecuteTime": {
     "end_time": "2025-08-12T15:40:30.741060Z",
     "start_time": "2025-08-12T15:40:30.381056Z"
    }
   },
   "outputs": [
    {
     "name": "stdout",
     "output_type": "stream",
     "text": [
      "Time to open remote dataset 1: 0.1729278564453125 s\n",
      "Memory usage after opening remote dataset 1: 0.75 MB\n",
      "Time to open remote dataset 2: 0.1733245849609375 s\n",
      "Memory usage after opening remote dataset 2: 0.125 MB\n"
     ]
    }
   ],
   "execution_count": 7
  },
  {
   "metadata": {},
   "cell_type": "markdown",
   "source": [
    "As before, both time and memory usage are very low, since again we are only creating a pointer to the remote dataset, and not downloading it to the local machine.\n",
    "\n",
    "**EXERCISE**:\n",
    "\n",
    "a) Print out the shape of the dataset and calculate its size (in MB). What class is ``cat2_ds`` an instance of?\n",
    "\n",
    "b) You should find that the remote access to the dataset has returned a ``caterva2.client.Dataset`` object. Try and get a slice of the dataset, e.g. `cat2_ds[500:502, 302, 900:905]`, and print out its type. Profile the time and memory consumption of this operation, and compare it to the time and memory consumption of accessing the remote dataset using blosc2 that we saw above.\n"
   ],
   "id": "2f1f643b08457287"
  },
  {
   "id": "62ee97b1-5d36-4ada-b6cd-abb3c017a817",
   "cell_type": "code",
   "source": [
    "# a) Calculate the shape and nbytes of the dataset, and print out the type of cat2_ds\n",
    "#\n",
    "## YOUR CODE HERE\n",
    "#\n",
    "\n",
    "# b) Get a slice of cat2_ds, print out its type, and profile time and memory consumption\n",
    "#\n",
    "## YOUR CODE HERE\n",
    "#"
   ],
   "metadata": {
    "trusted": true,
    "ExecuteTime": {
     "end_time": "2025-08-12T15:40:30.940325Z",
     "start_time": "2025-08-12T15:40:30.934221Z"
    }
   },
   "outputs": [],
   "execution_count": 8
  },
  {
   "metadata": {},
   "cell_type": "markdown",
   "source": [
    "\n",
    "Now we are going to try and compute the same lazy expression as before, but executed server-side and only downloading the result locally. We thus take advantage of the greater computational resources of the server to perform the computation and execute where the datasets already are, thus saving on transfer time. Now let's see how much time we can save in total!\n",
    "\n",
    "In order to have write-access to the server, we have to authenticate ourselves with the server. This is done by passing a tuple with the username and password to the ``Client`` constructor. If you don't have an account, you can create one at https://cat2.cloud/demo/login.\n",
    "\n",
    "**EXERCISE**:\n",
    "\n",
    "a) Modify the code below to authenticate yourself and then use the ``lazyexpr`` constructor of the ``Client`` class to save a lazy expression on the server which refers to the remote dataset.\n"
   ],
   "id": "1503402defb68449"
  },
  {
   "metadata": {
    "ExecuteTime": {
     "end_time": "2025-08-12T15:47:44.334920Z",
     "start_time": "2025-08-12T15:47:43.980525Z"
    }
   },
   "cell_type": "code",
   "source": [
    "# a) Define a simple lazy expression using cat2_ds\n",
    "client = cat2.Client(urlbase, (\"user@example.com\", \"foobar12\"))  # Replace with your credentials\n",
    "client.timeout = 60  # Set a timeout for the operations\n",
    "lexpr_path = client.lazyexpr('my_lazyexpr', expression='arr1 + 2 * arr2', operands={'arr1': cat2_arr1.path, 'arr2': cat2_arr2.path}) # Replace 'YOUR_EXPRESSION' with a valid expression"
   ],
   "id": "1526409e38bfa04f",
   "outputs": [],
   "execution_count": 13
  },
  {
   "metadata": {},
   "cell_type": "markdown",
   "source": [
    "b) Inspect the type of `lexpr`. You will see that we cannot simply compute it. Instead, we need to use the ``Client.get`` method to get a local pointer to the remote lazy expression.\n",
    "Do this, and access metadata of the result (what type is it?), such as its shape and dtype.\n",
    "\n",
    "c) Finally we can compute and return the lazy expression using the ``[:]`` method of the local pointer to the remote lazy expression. Profile the time and memory usage for this operation, and compare it to the time and memory usage of computing the lazy expression using blosc2 that we saw above. You can also check what happens when you only compute a small slice of the result."
   ],
   "id": "e265826f8ded1f3e"
  },
  {
   "metadata": {
    "ExecuteTime": {
     "end_time": "2025-08-12T15:48:21.526396Z",
     "start_time": "2025-08-12T15:47:45.543057Z"
    }
   },
   "cell_type": "code",
   "source": [
    "# b) Get a local pointer to the remote lazy expression and access its metadata\n",
    "#\n",
    "## YOUR CODE HERE\n",
    "#\n",
    "\n",
    "# c) Compute the lazy expression and profile time and memory usage\n",
    "#\n",
    "## YOUR CODE HERE\n",
    "#"
   ],
   "id": "5b83628934c2b48c",
   "outputs": [
    {
     "name": "stdout",
     "output_type": "stream",
     "text": [
      "peak memory: 7801.36 MiB, increment: 7685.21 MiB\n",
      "Time to compute lazy expression: 35.793845653533936 s\n",
      "result occupies 7629.39453125 MB\n"
     ]
    }
   ],
   "execution_count": 14
  },
  {
   "metadata": {},
   "cell_type": "markdown",
   "source": [
    "## BONUS: Setting up your own server\n",
    "\n",
    "In case you have your own server running that you would like to connect to and run Caterva2 on, you can do so by following these steps.\n",
    "1) In a command line terminal, execute ``CATERVA2_SECRET=c2sikrit cat2sub``. Check that the server is running at `http://localhost:8000`.\n",
    "2) In a separate terminal, execute ``cat2adduser user@example.com foobar11`` to create a new user on the server.\n",
    "\n",
    "You may then return to this Jupyter notebook and use the code below to connect to your server.\n",
    "Explore the Caterva2 documentation for the ``Client`` class and try and upload a file to the server (see [this tutorial](https://ironarray.io/caterva2-doc/tutorials/API.html) if you get stuck."
   ],
   "id": "96b3f5917ad55f2e"
  },
  {
   "metadata": {
    "ExecuteTime": {
     "end_time": "2025-08-12T16:17:25.551597Z",
     "start_time": "2025-08-12T16:17:25.249290Z"
    }
   },
   "cell_type": "code",
   "source": [
    "client = cat2.Client(\"http://localhost:8000\", (\"user@example.com\", \"foobar11\"))\n",
    "#\n",
    "## YOUR CODE HERE\n",
    "#"
   ],
   "id": "ec30bd2e7c2ab217",
   "outputs": [
    {
     "ename": "HTTPStatusError",
     "evalue": "Client error '400 Bad Request' for url 'http://localhost:8000/auth/jwt/login'\nFor more information check: https://developer.mozilla.org/en-US/docs/Web/HTTP/Status/400",
     "output_type": "error",
     "traceback": [
      "\u001B[31m---------------------------------------------------------------------------\u001B[39m",
      "\u001B[31mHTTPStatusError\u001B[39m                           Traceback (most recent call last)",
      "\u001B[36mCell\u001B[39m\u001B[36m \u001B[39m\u001B[32mIn[12]\u001B[39m\u001B[32m, line 1\u001B[39m\n\u001B[32m----> \u001B[39m\u001B[32m1\u001B[39m client = \u001B[43mcat2\u001B[49m\u001B[43m.\u001B[49m\u001B[43mClient\u001B[49m\u001B[43m(\u001B[49m\u001B[33;43m\"\u001B[39;49m\u001B[33;43mhttp://localhost:8000\u001B[39;49m\u001B[33;43m\"\u001B[39;49m\u001B[43m,\u001B[49m\u001B[43m \u001B[49m\u001B[43m(\u001B[49m\u001B[33;43m\"\u001B[39;49m\u001B[33;43muser@example.com\u001B[39;49m\u001B[33;43m\"\u001B[39;49m\u001B[43m,\u001B[49m\u001B[43m \u001B[49m\u001B[33;43m\"\u001B[39;49m\u001B[33;43mfoobar11\u001B[39;49m\u001B[33;43m\"\u001B[39;49m\u001B[43m)\u001B[49m\u001B[43m)\u001B[49m\n\u001B[32m      2\u001B[39m \u001B[38;5;66;03m#\u001B[39;00m\n\u001B[32m      3\u001B[39m \u001B[38;5;66;03m## YOUR CODE HERE\u001B[39;00m\n\u001B[32m      4\u001B[39m \u001B[38;5;66;03m#\u001B[39;00m\n\u001B[32m      5\u001B[39m get_ipython().run_line_magic(\u001B[33m'\u001B[39m\u001B[33menv\u001B[39m\u001B[33m'\u001B[39m, \u001B[33m'\u001B[39m\u001B[33m'\u001B[39m)\n",
      "\u001B[36mFile \u001B[39m\u001B[32m~/miniforge3/envs/blosc2env/lib/python3.12/site-packages/caterva2/client.py:774\u001B[39m, in \u001B[36mClient.__init__\u001B[39m\u001B[34m(self, urlbase, auth, timeout)\u001B[39m\n\u001B[32m    772\u001B[39m     \u001B[38;5;28;01mraise\u001B[39;00m \u001B[38;5;167;01mValueError\u001B[39;00m(\u001B[33m\"\u001B[39m\u001B[33mauth must be BasicAuth or a tuple (username, password)\u001B[39m\u001B[33m\"\u001B[39m)\n\u001B[32m    773\u001B[39m \u001B[38;5;28;01mif\u001B[39;00m username \u001B[38;5;129;01mand\u001B[39;00m password:\n\u001B[32m--> \u001B[39m\u001B[32m774\u001B[39m     \u001B[38;5;28mself\u001B[39m.cookie = \u001B[43mapi_utils\u001B[49m\u001B[43m.\u001B[49m\u001B[43mget_auth_cookie\u001B[49m\u001B[43m(\u001B[49m\n\u001B[32m    775\u001B[39m \u001B[43m        \u001B[49m\u001B[38;5;28;43mself\u001B[39;49m\u001B[43m.\u001B[49m\u001B[43murlbase\u001B[49m\u001B[43m,\u001B[49m\u001B[43m \u001B[49m\u001B[43m{\u001B[49m\u001B[33;43m\"\u001B[39;49m\u001B[33;43musername\u001B[39;49m\u001B[33;43m\"\u001B[39;49m\u001B[43m:\u001B[49m\u001B[43m \u001B[49m\u001B[43musername\u001B[49m\u001B[43m,\u001B[49m\u001B[43m \u001B[49m\u001B[33;43m\"\u001B[39;49m\u001B[33;43mpassword\u001B[39;49m\u001B[33;43m\"\u001B[39;49m\u001B[43m:\u001B[49m\u001B[43m \u001B[49m\u001B[43mpassword\u001B[49m\u001B[43m}\u001B[49m\u001B[43m,\u001B[49m\u001B[43m \u001B[49m\u001B[43mtimeout\u001B[49m\u001B[43m=\u001B[49m\u001B[38;5;28;43mself\u001B[39;49m\u001B[43m.\u001B[49m\u001B[43mtimeout\u001B[49m\n\u001B[32m    776\u001B[39m \u001B[43m    \u001B[49m\u001B[43m)\u001B[49m\n",
      "\u001B[36mFile \u001B[39m\u001B[32m~/miniforge3/envs/blosc2env/lib/python3.12/site-packages/caterva2/api_utils.py:101\u001B[39m, in \u001B[36mget_auth_cookie\u001B[39m\u001B[34m(urlbase, user_auth, timeout)\u001B[39m\n\u001B[32m     96\u001B[39m \u001B[38;5;28;01mexcept\u001B[39;00m httpx.ReadTimeout \u001B[38;5;28;01mas\u001B[39;00m e:\n\u001B[32m     97\u001B[39m     \u001B[38;5;28;01mraise\u001B[39;00m \u001B[38;5;167;01mTimeoutError\u001B[39;00m(\n\u001B[32m     98\u001B[39m         \u001B[33mf\u001B[39m\u001B[33m\"\u001B[39m\u001B[33mTimeout after \u001B[39m\u001B[38;5;132;01m{\u001B[39;00mtimeout\u001B[38;5;132;01m}\u001B[39;00m\u001B[33m seconds while trying to access \u001B[39m\u001B[38;5;132;01m{\u001B[39;00murl\u001B[38;5;132;01m}\u001B[39;00m\u001B[33m. \u001B[39m\u001B[33m\"\u001B[39m\n\u001B[32m     99\u001B[39m         \u001B[33mf\u001B[39m\u001B[33m\"\u001B[39m\u001B[33mTry increasing the timeout (currently \u001B[39m\u001B[38;5;132;01m{\u001B[39;00mtimeout\u001B[38;5;132;01m}\u001B[39;00m\u001B[33m s) for Client instance for large datasets.\u001B[39m\u001B[33m\"\u001B[39m\n\u001B[32m    100\u001B[39m     ) \u001B[38;5;28;01mfrom\u001B[39;00m\u001B[38;5;250m \u001B[39m\u001B[34;01me\u001B[39;00m\n\u001B[32m--> \u001B[39m\u001B[32m101\u001B[39m \u001B[43mresp\u001B[49m\u001B[43m.\u001B[49m\u001B[43mraise_for_status\u001B[49m\u001B[43m(\u001B[49m\u001B[43m)\u001B[49m\n\u001B[32m    102\u001B[39m \u001B[38;5;28;01mreturn\u001B[39;00m \u001B[33m\"\u001B[39m\u001B[33m=\u001B[39m\u001B[33m\"\u001B[39m.join(\u001B[38;5;28mlist\u001B[39m(resp.cookies.items())[\u001B[32m0\u001B[39m])\n",
      "\u001B[36mFile \u001B[39m\u001B[32m~/miniforge3/envs/blosc2env/lib/python3.12/site-packages/httpx/_models.py:829\u001B[39m, in \u001B[36mResponse.raise_for_status\u001B[39m\u001B[34m(self)\u001B[39m\n\u001B[32m    827\u001B[39m error_type = error_types.get(status_class, \u001B[33m\"\u001B[39m\u001B[33mInvalid status code\u001B[39m\u001B[33m\"\u001B[39m)\n\u001B[32m    828\u001B[39m message = message.format(\u001B[38;5;28mself\u001B[39m, error_type=error_type)\n\u001B[32m--> \u001B[39m\u001B[32m829\u001B[39m \u001B[38;5;28;01mraise\u001B[39;00m HTTPStatusError(message, request=request, response=\u001B[38;5;28mself\u001B[39m)\n",
      "\u001B[31mHTTPStatusError\u001B[39m: Client error '400 Bad Request' for url 'http://localhost:8000/auth/jwt/login'\nFor more information check: https://developer.mozilla.org/en-US/docs/Web/HTTP/Status/400"
     ]
    }
   ],
   "execution_count": 12
  },
  {
   "metadata": {},
   "cell_type": "code",
   "outputs": [],
   "execution_count": null,
   "source": "",
   "id": "ee745da744b27b0e"
  }
 ]
}
